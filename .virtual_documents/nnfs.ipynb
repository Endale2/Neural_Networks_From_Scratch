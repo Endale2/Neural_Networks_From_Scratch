import numpy as np
import matplotlib.pyplot as plt


def create_data(points, classes):
    X = np.zeros((points * classes, 2))        # feature matrix
    y = np.zeros(points * classes, dtype='uint8')  # labels

    for class_number in range(classes):
        ix = range(points * class_number, points * (class_number + 1))
        r = np.linspace(0.0, 1, points)  # radius
        t = np.linspace(class_number * 4, (class_number + 1) * 4, points) + \
            np.random.randn(points) * 0.2  # theta with noise
        X[ix] = np.c_[r * np.sin(t * 2.5), r * np.cos(t * 2.5)]
        y[ix] = class_number

    return X, y


# ✅ Example usage
print("Generating data...")
X, y = create_data(100, 3)

plt.scatter(X[:, 0], X[:, 1], c=y, cmap="brg")
plt.show()





np.random.seed(0)

X=[[1,2.3,3,-0.5],
   [2,-4,1.2,3],
   [3.4,-2.1,2.5,1]]


class  Layer_Dense:
    def __init__(self, n_inputs, n_neurons):
        self.weights =0.1* np.random.randn(n_inputs, n_neurons)
        self.biases = np.zeros((1,n_neurons))
    def  forward(self, inputs):
            self.output = np.dot(inputs  , self.weights) + self.biases



class  Activation_ReLU:
    def  forward(self , inputs):
        self.output = np.maximum(0,inputs)
    




print("=====LAYER  1======")
layer1 = Layer_Dense(2,5)
activation1 = Activation_ReLU()
layer1.forward(X)
activation1.forward(layer1.output)
print(layer1.output)

            
        




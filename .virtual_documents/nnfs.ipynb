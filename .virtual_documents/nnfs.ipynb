import numpy as np
import matplotlib.pyplot as plt


# =========================
# Dataset generator (spiral)
# =========================
def create_data(points, classes):
    X = np.zeros((points * classes, 2))        # feature matrix
    y = np.zeros(points * classes, dtype='uint8')  # labels

    for class_number in range(classes):
        ix = range(points * class_number, points * (class_number + 1))
        r = np.linspace(0.0, 1, points)  # radius
        t = np.linspace(class_number * 4, (class_number + 1) * 4, points) + \
            np.random.randn(points) * 0.2  # theta with noise
        X[ix] = np.c_[r * np.sin(t * 2.5), r * np.cos(t * 2.5)]
        y[ix] = class_number

    return X, y


# =========================
# Dense Layer
# =========================
class Layer_Dense:
    def __init__(self, n_inputs, n_neurons):
        self.weights = 0.1 * np.random.randn(n_inputs, n_neurons)
        self.biases = np.zeros((1, n_neurons))
        self.output = None

    def forward(self, inputs):
        self.output = np.dot(inputs, self.weights) + self.biases


# =========================
# ReLU Activation
# =========================
class Activation_ReLU:
    def forward(self, inputs):
        self.output = np.maximum(0, inputs)


# =========================
# MAIN
# =========================
np.random.seed(0)

# Generate dataset (300 samples, 3 classes)
X, y = create_data(100, 3)

# Visualize dataset
plt.scatter(X[:, 0], X[:, 1], c=y, cmap="brg")
plt.show()

# ---- Layer 1: (2 inputs → 5 neurons) ----
layer1 = Layer_Dense(2, 5)
activation1 = Activation_ReLU()

# Forward pass layer 1
layer1.forward(X)
activation1.forward(layer1.output)

print("===== LAYER 1 OUTPUT (first 5 samples) =====")
print(activation1.output[:5])

# ---- Layer 2: (5 inputs → 3 neurons) ----
layer2 = Layer_Dense(5, 3)
activation2 = Activation_ReLU()

# Forward pass layer 2 (input = activation1.output)
layer2.forward(activation1.output)
activation2.forward(layer2.output)

print("\n===== LAYER 2 OUTPUT (first 5 samples) =====")
print(activation2.output[:5])





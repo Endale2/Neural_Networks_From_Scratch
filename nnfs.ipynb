{
 "cells": [
  {
   "cell_type": "code",
   "execution_count": 2,
   "id": "379bcef4-4c1e-49b9-ab48-321d7871ff8e",
   "metadata": {},
   "outputs": [
    {
     "ename": "IndentationError",
     "evalue": "expected an indented block after function definition on line 20 (4221259266.py, line 23)",
     "output_type": "error",
     "traceback": [
      "  \u001b[36mCell\u001b[39m\u001b[36m \u001b[39m\u001b[32mIn[2]\u001b[39m\u001b[32m, line 23\u001b[39m\n\u001b[31m    \u001b[39m\u001b[31mlayer1 = Layer_Dense(4,5)\u001b[39m\n                             ^\n\u001b[31mIndentationError\u001b[39m\u001b[31m:\u001b[39m expected an indented block after function definition on line 20\n"
     ]
    }
   ],
   "source": [
    "import   numpy  as  np\n",
    "\n",
    "np.random.seed(0)\n",
    "\n",
    "X=[[1,2.3,3,-0.5],\n",
    "   [2,-4,1.2,3],\n",
    "   [3.4,-2.1,2.5,1]]\n",
    "\n",
    "\n",
    "class  Layer_Dense:\n",
    "    def __init__(self, n_inputs, n_neurons):\n",
    "        self.weights =0.1* np.random.randn(n_inputs, n_neurons)\n",
    "        self.biases = np.zeros((1,n_neurons))\n",
    "    def  forward(self, inputs):\n",
    "            self.output = np.dot(inputs  , self.weights) + self.biases\n",
    "\n",
    "\n",
    "\n",
    "class  Activation_ReLU:\n",
    "    def  forward(self , inputs):\n",
    "        self.output = np.maximum(0,inputs)\n",
    "    \n",
    "\n",
    "layer1 = Layer_Dense(4,5)\n",
    "layer2 = Layer_Dense(5,2)\n",
    "\n",
    "print(\"=====LAYER  1======\")\n",
    "layer1.forward(X)\n",
    "\n",
    "print(layer1.output)\n",
    "\n",
    "print(\"=====LAYER  2======\")\n",
    "\n",
    "layer2.forward(layer1.output)\n",
    "\n",
    "print(layer2.output)\n",
    "            \n",
    "        "
   ]
  },
  {
   "cell_type": "code",
   "execution_count": null,
   "id": "16804bcd-e0d5-4224-a67d-699addcce3fe",
   "metadata": {},
   "outputs": [],
   "source": []
  }
 ],
 "metadata": {
  "kernelspec": {
   "display_name": "Python 3 (ipykernel)",
   "language": "python",
   "name": "python3"
  },
  "language_info": {
   "codemirror_mode": {
    "name": "ipython",
    "version": 3
   },
   "file_extension": ".py",
   "mimetype": "text/x-python",
   "name": "python",
   "nbconvert_exporter": "python",
   "pygments_lexer": "ipython3",
   "version": "3.12.2"
  }
 },
 "nbformat": 4,
 "nbformat_minor": 5
}

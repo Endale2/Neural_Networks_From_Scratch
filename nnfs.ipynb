{
 "cells": [
  {
   "cell_type": "code",
   "execution_count": 9,
   "id": "379bcef4-4c1e-49b9-ab48-321d7871ff8e",
   "metadata": {},
   "outputs": [
    {
     "name": "stdout",
     "output_type": "stream",
     "text": [
      "=====LAYER  1======\n",
      "[[-0.02183932  0.62011416  0.30163087  0.2211981   0.45705721]\n",
      " [ 0.86110915  0.32273262  0.28606753  0.59798749  0.00630706]\n",
      " [ 0.87438448  0.44951117  0.53429953  0.84530517  0.57430027]]\n",
      "=====LAYER  2======\n",
      "[[ 0.19871222 -0.02830069]\n",
      " [-0.12330877 -0.0195397 ]\n",
      " [ 0.02879633  0.01464612]]\n"
     ]
    }
   ],
   "source": [
    "import   numpy  as  np\n",
    "\n",
    "np.random.seed(0)\n",
    "\n",
    "X=[[1,2.3,3,-0.5],\n",
    "   [2,-4,1.2,3],\n",
    "   [3.4,-2.1,2.5,1]]\n",
    "\n",
    "\n",
    "class  Layer_Dense:\n",
    "    def __init__(self, n_inputs, n_neurons):\n",
    "        self.weights =0.1* np.random.randn(n_inputs, n_neurons)\n",
    "        self.biases = np.zeros((1,n_neurons))\n",
    "    def  forward(self, inputs):\n",
    "            self.output = np.dot(inputs  , self.weights) + self.biases\n",
    "\n",
    "\n",
    "\n",
    "layer1 = Layer_Dense(4,5)\n",
    "layer2 = Layer_Dense(5,2)\n",
    "\n",
    "print(\"=====LAYER  1======\")\n",
    "layer1.forward(X)\n",
    "\n",
    "print(layer1.output)\n",
    "\n",
    "print(\"=====LAYER  2======\")\n",
    "\n",
    "layer2.forward(layer1.output)\n",
    "\n",
    "print(layer2.output)\n",
    "            \n",
    "        "
   ]
  },
  {
   "cell_type": "code",
   "execution_count": null,
   "id": "16804bcd-e0d5-4224-a67d-699addcce3fe",
   "metadata": {},
   "outputs": [],
   "source": []
  }
 ],
 "metadata": {
  "kernelspec": {
   "display_name": "Python 3 (ipykernel)",
   "language": "python",
   "name": "python3"
  },
  "language_info": {
   "codemirror_mode": {
    "name": "ipython",
    "version": 3
   },
   "file_extension": ".py",
   "mimetype": "text/x-python",
   "name": "python",
   "nbconvert_exporter": "python",
   "pygments_lexer": "ipython3",
   "version": "3.12.2"
  }
 },
 "nbformat": 4,
 "nbformat_minor": 5
}
